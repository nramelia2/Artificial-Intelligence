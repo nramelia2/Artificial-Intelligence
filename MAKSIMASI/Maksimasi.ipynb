{
  "cells": [
    {
      "cell_type": "markdown",
      "metadata": {
        "id": "view-in-github",
        "colab_type": "text"
      },
      "source": [
        "<a href=\"https://colab.research.google.com/github/nramelia2/Artificial-Intelligence/blob/main/MAKSIMASI/Maksimasi.ipynb\" target=\"_parent\"><img src=\"https://colab.research.google.com/assets/colab-badge.svg\" alt=\"Open In Colab\"/></a>"
      ]
    },
    {
      "cell_type": "markdown",
      "source": [
        "###Penyelesaian Solusi Pemilihan Bahan Pangan Ternak Berdasarkan Kandungan Nutrisinya Menggunakan Algoritma Genetik"
      ],
      "metadata": {
        "id": "3DNnRiV-AcRt"
      }
    },
    {
      "cell_type": "code",
      "execution_count": null,
      "metadata": {
        "id": "l6M2oNbOfGzj"
      },
      "outputs": [],
      "source": [
        "import numpy as np # membuat objek N-dimensi array, proses komputasi numerik.\n",
        "import pandas as pd # mengelola data berbentuk tabel.\n",
        "import random as rd # menghasilkan angka acak.\n",
        "from random import randint # menghasilkan angka acak.\n",
        "import matplotlib.pyplot as plt"
      ]
    },
    {
      "cell_type": "code",
      "execution_count": null,
      "metadata": {
        "colab": {
          "base_uri": "https://localhost:8080/"
        },
        "id": "BSPL1ws5fJOh",
        "outputId": "39ffed2d-0a5a-4be9-8daf-b0bb744eccae"
      },
      "outputs": [
        {
          "output_type": "stream",
          "name": "stdout",
          "text": [
            "The list is as follows:\n",
            "Item No.   harga   nilai nutrisi\n",
            "1          3000         3250\n",
            "\n",
            "2          4000         1750\n",
            "\n",
            "3          4000         3500\n",
            "\n",
            "4          6000         4370\n",
            "\n",
            "5          8000         2160\n",
            "\n",
            "6          11000         3550\n",
            "\n",
            "7          13000         4140\n",
            "\n",
            "Masukkan Jumlah Kromosom Yang Diinginkan : \n",
            "10\n",
            "\n",
            "\n",
            "jumlah populasi = (10, 7)\n",
            "\n",
            "\n",
            "Masukkan Jumlah Maksimal Generasi Yang Diinginkan : \n",
            "25\n",
            "\n",
            "\n",
            "Masukkan Harga Maksimal : \n",
            "25000\n",
            "\n",
            "\n",
            "Masukkan Nilai Crossover Rate : \n",
            "0.55\n",
            "\n",
            "\n",
            "Masukkan Nilai Mutation Rate : \n",
            "0.7\n",
            "\n",
            "\n",
            "Initial populasi: \n",
            "[[0 0 0 1 0 1 1]\n",
            " [1 0 0 0 1 0 0]\n",
            " [0 1 0 1 0 1 0]\n",
            " [1 1 1 0 1 0 0]\n",
            " [1 1 0 0 0 1 1]\n",
            " [1 0 1 1 1 0 1]\n",
            " [0 0 1 1 0 1 0]\n",
            " [0 0 1 0 0 0 0]\n",
            " [0 0 0 0 1 0 0]\n",
            " [0 0 1 1 0 1 0]]\n"
          ]
        }
      ],
      "source": [
        "banyak_pakan = np.arange(1,8) # ada 7 jenis data.\n",
        "\n",
        "#Nama Pakan : Jagung, Dedak, Ampas kelapa, CGF, Polas Gandum, Pur ayam, Ampas Tahu\n",
        "harga = (3000,4000,4000,6000,8000,11000,13000)\n",
        "nilai_nutrisi = (3250,1750,3500,4370,2160,3550,4140) # sebagai nilai fitness.\n",
        "\n",
        "print('The list is as follows:')\n",
        "print('Item No.   harga   nilai nutrisi')\n",
        "# perulangan banyak pakan, harga, nilai nutrisi.\n",
        "for i in range(banyak_pakan.shape[0]): # shape - jumlah baris dan kolom data.\n",
        "    print('{0}          {1}         {2}\\n'.format(banyak_pakan[i], harga[i], nilai_nutrisi[i])) # isi variabel.\n",
        "\n",
        "\n",
        "# Input kromosom\n",
        "print(\"Masukkan Jumlah Kromosom Yang Diinginkan : \")\n",
        "jumlah_kromosom = int(input())\n",
        "print(\"\\n\")\n",
        "# jumlah populasi hasil dari (jumlah kromosom, jumlah banyak pakan).\n",
        "jumlah_pop = (jumlah_kromosom, banyak_pakan.shape[0])\n",
        "print('jumlah populasi = {}'.format(jumlah_pop))\n",
        "print(\"\\n\")\n",
        "\n",
        "populasi_awal = np.random.randint(2, size = jumlah_pop) # 2 untuk mengubah int menjadi 2 bilangan saja (0 1 - biner).\n",
        "populasi_awal = populasi_awal.astype(int) # astype - mengubah data menjadi tipe tertentu.\n",
        "print(\"Masukkan Jumlah Maksimal Generasi Yang Diinginkan : \")\n",
        "num_generations = int(input())\n",
        "print(\"\\n\")\n",
        "\n",
        "print(\"Masukkan Harga Maksimal : \")\n",
        "maksimal_barang = int(input())\n",
        "print(\"\\n\")\n",
        "\n",
        "print(\"Masukkan Nilai Crossover Rate : \")\n",
        "nilai_pc = float(input())\n",
        "print(\"\\n\")\n",
        "\n",
        "print(\"Masukkan Nilai Mutation Rate : \")\n",
        "nilai_pm = float(input())\n",
        "print(\"\\n\")\n",
        "\n",
        "print('Initial populasi: \\n{}'.format(populasi_awal))"
      ]
    },
    {
      "cell_type": "code",
      "execution_count": null,
      "metadata": {
        "id": "J_vt1nB_fQmR"
      },
      "outputs": [],
      "source": [
        "# Fitness\n",
        "def cal_fitness(harga, nilai_nutrisi, populasi, threshold): # threshold - ambang.\n",
        "    fitness = np.empty(populasi.shape[0]) # mengembalikan array dengan bentuk dan ukuran yang sama dengan nilai acak sebagai entrinya.\n",
        "    for i in range(populasi.shape[0]):\n",
        "        S1 = np.sum(populasi[i] * nilai_nutrisi)\n",
        "        S2 = np.sum(populasi[i] * harga)\n",
        "        if S2 <= threshold:\n",
        "            fitness[i] = S1\n",
        "        else :\n",
        "            fitness[i] = 0 \n",
        "    return fitness.astype(int)      \n"
      ]
    },
    {
      "cell_type": "code",
      "execution_count": null,
      "metadata": {
        "colab": {
          "base_uri": "https://localhost:8080/"
        },
        "id": "NfrFs-T4fSyw",
        "outputId": "6a6ea0ac-0df7-4cfc-dfb5-c29ab6c5f9cf"
      },
      "outputs": [
        {
          "output_type": "stream",
          "name": "stdout",
          "text": [
            "fitness Pertama : \n",
            "[    0  5410  9670 10660     0     0 11420  3500  2160 11420]\n",
            "\n"
          ]
        }
      ],
      "source": [
        "print('fitness Pertama : \\n{}\\n'.format(cal_fitness(harga, nilai_nutrisi, populasi_awal, maksimal_barang)))"
      ]
    },
    {
      "cell_type": "code",
      "execution_count": null,
      "metadata": {
        "id": "dRqZjcIifVQo"
      },
      "outputs": [],
      "source": [
        "def selection(fitness, num_parents, populasi):\n",
        "    fitness = list(fitness) # menyimpan sekumpulan item yang diapit oleh dua kurung siku.\n",
        "    parents = np.empty((num_parents, populasi.shape[1]))\n",
        "    # seleksi parents terbaik.\n",
        "    for i in range(num_parents):\n",
        "        max_fitness_idx = np.where(fitness == np.max(fitness)) # np.where mengembalikan elemen yang dipilih dari x atau y tergantung pada kondisi.\n",
        "        parents[i,:] = populasi[max_fitness_idx[0][0], :]\n",
        "        fitness[max_fitness_idx[0][0]] = -999999\n",
        "    return parents "
      ]
    },
    {
      "cell_type": "code",
      "execution_count": null,
      "metadata": {
        "id": "xVnImrhjfY2w"
      },
      "outputs": [],
      "source": [
        "def crossover(parents, num_offsprings):\n",
        "    offsprings = np.empty((num_offsprings, parents.shape[1]))\n",
        "    crossover_point = int(parents.shape[1]/2)\n",
        "    crossover_rate = nilai_pc # roullet wheel\n",
        "    i=0\n",
        "    while (parents.shape[0] < num_offsprings):\n",
        "        parent1_index = i%parents.shape[0]\n",
        "        parent2_index = (i+1)%parents.shape[0]\n",
        "        x = rd.random()\n",
        "        if x > crossover_rate:\n",
        "            continue\n",
        "        parent1_index = i%parents.shape[0]\n",
        "        parent2_index = (i+1)%parents.shape[0]\n",
        "        offsprings[i,0:crossover_point] = parents[parent1_index,0:crossover_point]\n",
        "        offsprings[i,crossover_point:] = parents[parent2_index,crossover_point:]\n",
        "        i=+1\n",
        "    return offsprings   \n"
      ]
    },
    {
      "cell_type": "code",
      "execution_count": null,
      "metadata": {
        "id": "FDDbm2q_fZrw"
      },
      "outputs": [],
      "source": [
        "def mutation(offsprings): # offsprings - mencari keturunan\n",
        "    mutants = np.empty((offsprings.shape))\n",
        "    mutation_rate = nilai_pm\n",
        "    for i in range(mutants.shape[0]):\n",
        "        random_nilai_prioritas = rd.random()\n",
        "        mutants[i,:] = offsprings[i,:]\n",
        "        if random_nilai_prioritas > mutation_rate:\n",
        "            continue\n",
        "        int_random_nilai_prioritas = randint(0,offsprings.shape[1]-1)    \n",
        "        if mutants[i,int_random_nilai_prioritas] == 0 :\n",
        "            mutants[i,int_random_nilai_prioritas] = 1\n",
        "        else :\n",
        "            mutants[i,int_random_nilai_prioritas] = 0\n",
        "    return mutants      \n"
      ]
    },
    {
      "cell_type": "code",
      "execution_count": null,
      "metadata": {
        "id": "Nc_3LCz7fbiY"
      },
      "outputs": [],
      "source": [
        "# hasil semua generasi akhir (elitism).\n",
        "def optimize(harga, nilai_nutrisi, populasi, jumlah_pop, num_generations, threshold):\n",
        "    parameters, fitness_history = [], []\n",
        "    num_parents = int(jumlah_pop[0]/2)\n",
        "    num_offsprings = jumlah_pop[0] - num_parents \n",
        "    for i in range(num_generations):\n",
        "        fitness = cal_fitness(harga, nilai_nutrisi, populasi, threshold)\n",
        "        fitness_history.append(fitness)\n",
        "        parents = selection(fitness, num_parents, populasi)\n",
        "        \n",
        "        offsprings = crossover(parents, num_offsprings)\n",
        "       \n",
        "        mutants = mutation(offsprings)\n",
        "        populasi[0:parents.shape[0], :] = parents\n",
        "        populasi[parents.shape[0]:, :] = mutants\n",
        "    print(\"selection : \\n\")\n",
        "    print(parents)\n",
        "    print(\"crossover : \\n\")\n",
        "    print(offsprings)\n",
        "    print(\"mutasi : \\n\")\n",
        "    print(mutants)\n",
        "    print('Generasi akhir: \\n{}\\n'.format(populasi))\n",
        "    fitness_last_gen = cal_fitness(harga, nilai_nutrisi, populasi, threshold)      \n",
        "    print('Fitness dari generasi akhir: \\n{}\\n'.format(fitness_last_gen))\n",
        "    max_fitness = np.where(fitness_last_gen == np.max(fitness_last_gen))\n",
        "    parameters.append(populasi[max_fitness[0][0],:])\n",
        "    return parameters, fitness_history\n"
      ]
    },
    {
      "cell_type": "code",
      "execution_count": null,
      "metadata": {
        "colab": {
          "base_uri": "https://localhost:8080/"
        },
        "id": "t7k_rTjwfdKg",
        "outputId": "f0e05043-c8aa-46df-9833-38c41eb72dae"
      },
      "outputs": [
        {
          "output_type": "stream",
          "name": "stdout",
          "text": [
            "selection : \n",
            "\n",
            "[[1. 1. 1. 1. 1. 0. 0.]\n",
            " [1. 1. 1. 1. 1. 0. 0.]\n",
            " [1. 1. 1. 1. 1. 0. 0.]\n",
            " [1. 1. 1. 1. 1. 0. 0.]\n",
            " [1. 1. 1. 1. 1. 0. 0.]]\n",
            "crossover : \n",
            "\n",
            "[[1. 1. 1. 1. 1. 0. 0.]\n",
            " [1. 1. 1. 1. 1. 0. 0.]\n",
            " [1. 1. 1. 1. 1. 0. 0.]\n",
            " [1. 1. 1. 1. 1. 0. 0.]\n",
            " [1. 1. 1. 1. 1. 0. 0.]]\n",
            "mutasi : \n",
            "\n",
            "[[1. 1. 0. 1. 1. 0. 0.]\n",
            " [0. 1. 1. 1. 1. 0. 0.]\n",
            " [1. 1. 1. 0. 1. 0. 0.]\n",
            " [0. 1. 1. 1. 1. 0. 0.]\n",
            " [1. 1. 1. 1. 1. 0. 0.]]\n",
            "Generasi akhir: \n",
            "[[1 1 1 1 1 0 0]\n",
            " [1 1 1 1 1 0 0]\n",
            " [1 1 1 1 1 0 0]\n",
            " [1 1 1 1 1 0 0]\n",
            " [1 1 1 1 1 0 0]\n",
            " [1 1 0 1 1 0 0]\n",
            " [0 1 1 1 1 0 0]\n",
            " [1 1 1 0 1 0 0]\n",
            " [0 1 1 1 1 0 0]\n",
            " [1 1 1 1 1 0 0]]\n",
            "\n",
            "Fitness dari generasi akhir: \n",
            "[15030 15030 15030 15030 15030 11530 11780 10660 11780 15030]\n",
            "\n",
            "Parameter yang dioptimalkan untuk input yang diberikan adalah: \n",
            "[array([1, 1, 1, 1, 1, 0, 0])]\n",
            "\n",
            "Bahan pangan yang akan dibeli adalah:\n",
            "1\n",
            "\n",
            "2\n",
            "\n",
            "3\n",
            "\n",
            "4\n",
            "\n",
            "5\n",
            "\n"
          ]
        }
      ],
      "source": [
        "parameters, fitness_history = optimize(harga, nilai_nutrisi, populasi_awal, jumlah_pop, num_generations, maksimal_barang)\n",
        "print('Parameter yang dioptimalkan untuk input yang diberikan adalah: \\n{}'.format(parameters))\n",
        "selected_items = banyak_pakan * parameters\n",
        "\n",
        "print('\\nBahan pangan yang akan dibeli adalah:')\n",
        "for i in range(selected_items.shape[1]):\n",
        "  if selected_items[0][i] != 0:\n",
        "     print('{}\\n'.format(selected_items[0][i]))\n"
      ]
    },
    {
      "cell_type": "code",
      "source": [
        "fitness_history_mean = [np.mean(fitness) for fitness in fitness_history]\n",
        "fitness_history_max = [np.max(fitness) for fitness in fitness_history]\n",
        "plt.plot(list(range(num_generations)), fitness_history_mean, label = 'Mean Fitness')\n",
        "plt.plot(list(range(num_generations)), fitness_history_max, label = 'Max Fitness')\n",
        "plt.legend()\n",
        "plt.title('Fitness through the generations')\n",
        "plt.xlabel('Generations')\n",
        "plt.ylabel('Fitness')\n",
        "plt.show()\n",
        "print(np.asarray(fitness_history).shape)"
      ],
      "metadata": {
        "colab": {
          "base_uri": "https://localhost:8080/",
          "height": 312
        },
        "id": "IvhIdZqLFay4",
        "outputId": "63d68c5e-9a20-4e2c-dd08-a7b5aeaaf9cb"
      },
      "execution_count": null,
      "outputs": [
        {
          "output_type": "display_data",
          "data": {
            "text/plain": [
              "<Figure size 432x288 with 1 Axes>"
            ],
            "image/png": "[encoded data removed]"
          },
          "metadata": {
            "needs_background": "light"
          }
        },
        {
          "output_type": "stream",
          "name": "stdout",
          "text": [
            "(25, 10)\n"
          ]
        }
      ]
    }
  ],
  "metadata": {
    "colab": {
      "collapsed_sections": [],
      "name": "Maksimasi.ipynb",
      "provenance": [],
      "include_colab_link": true
    },
    "kernelspec": {
      "display_name": "Python 3",
      "name": "python3"
    },
    "language_info": {
      "name": "python"
    }
  },
  "nbformat": 4,
  "nbformat_minor": 0
}